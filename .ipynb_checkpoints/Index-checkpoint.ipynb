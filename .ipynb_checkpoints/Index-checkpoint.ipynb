{
 "cells": [
  {
   "cell_type": "code",
   "execution_count": 1,
   "id": "9e98a214",
   "metadata": {},
   "outputs": [
    {
     "data": {
      "text/plain": [
       "{'key1': 'value1'}"
      ]
     },
     "execution_count": 1,
     "metadata": {},
     "output_type": "execute_result"
    }
   ],
   "source": [
    "#Method 1: Using direct assignment\n",
    "my_dict = {}\n",
    "my_dict['key1'] = 'value1'\n",
    "my_dict "
   ]
  },
  {
   "cell_type": "code",
   "execution_count": 2,
   "id": "aa71a34e",
   "metadata": {},
   "outputs": [
    {
     "data": {
      "text/plain": [
       "{'key2': 'value2'}"
      ]
     },
     "execution_count": 2,
     "metadata": {},
     "output_type": "execute_result"
    }
   ],
   "source": [
    "#Method 2: Using the dict() constructor:\n",
    "my_dict2 = dict(key2='value2')\n",
    "my_dict2"
   ]
  },
  {
   "cell_type": "code",
   "execution_count": 3,
   "id": "67ecd7d9",
   "metadata": {},
   "outputs": [
    {
     "data": {
      "text/plain": [
       "{'key1': 'value1', 'key2': 'value2'}"
      ]
     },
     "execution_count": 3,
     "metadata": {},
     "output_type": "execute_result"
    }
   ],
   "source": [
    "#Method 3: Using dictionary comprehension:\n",
    "keys = ['key1','key2']\n",
    "values = ['value1','value2']\n",
    "my_dict3 ={k:v for k, v in zip(keys,values)}\n",
    "my_dict3"
   ]
  },
  {
   "cell_type": "code",
   "execution_count": 4,
   "id": "4edfd93a",
   "metadata": {},
   "outputs": [
    {
     "data": {
      "text/plain": [
       "['key1', 'key2']"
      ]
     },
     "execution_count": 4,
     "metadata": {},
     "output_type": "execute_result"
    }
   ],
   "source": [
    "#Accessing Keys and values in a Dictionary:\n",
    "#using keys method\n",
    "keys = list(my_dict3.keys())\n",
    "keys"
   ]
  },
  {
   "cell_type": "code",
   "execution_count": 5,
   "id": "233df7f1",
   "metadata": {},
   "outputs": [
    {
     "data": {
      "text/plain": [
       "['value1', 'value2']"
      ]
     },
     "execution_count": 5,
     "metadata": {},
     "output_type": "execute_result"
    }
   ],
   "source": [
    "#Accessing values using values method\n",
    "values = list(my_dict3.values())\n",
    "values"
   ]
  },
  {
   "cell_type": "code",
   "execution_count": 6,
   "id": "37b27b45",
   "metadata": {},
   "outputs": [
    {
     "name": "stdout",
     "output_type": "stream",
     "text": [
      "key1:value1\n",
      "key2:value2\n"
     ]
    }
   ],
   "source": [
    "#Accessing both keys and values using the items method\n",
    "for key, value in my_dict3.items():\n",
    "    print(f'{key}:{value}')"
   ]
  },
  {
   "cell_type": "code",
   "execution_count": 44,
   "id": "d1414444",
   "metadata": {},
   "outputs": [
    {
     "data": {
      "text/plain": [
       "'value1'"
      ]
     },
     "execution_count": 44,
     "metadata": {},
     "output_type": "execute_result"
    }
   ],
   "source": [
    "#Access values using a specific key \n",
    "my_dict3\n",
    "x = my_dict['key1']\n",
    "x"
   ]
  },
  {
   "cell_type": "code",
   "execution_count": 8,
   "id": "6128acd9",
   "metadata": {},
   "outputs": [
    {
     "name": "stdout",
     "output_type": "stream",
     "text": [
      "Ivy\n",
      "Jame\n",
      "Moha\n",
      "Mik\n",
      "Val\n"
     ]
    }
   ],
   "source": [
    "#Looping Over Collection\n",
    "students = ['Ivy', 'Jame','Moha','Mik','Val']\n",
    "for students in students:\n",
    "    print(students)"
   ]
  },
  {
   "cell_type": "code",
   "execution_count": 9,
   "id": "75351d5b",
   "metadata": {},
   "outputs": [
    {
     "name": "stdout",
     "output_type": "stream",
     "text": [
      "1.Ivy\n",
      "2.Jame\n",
      "3.Moha\n",
      "4.Mik\n",
      "5.Val\n"
     ]
    }
   ],
   "source": [
    "#Using enumerate method\n",
    "students = ['Ivy', 'Jame','Moha','Mik','Val']\n",
    "for index, student in enumerate(students, start=1):\n",
    "    print(f'{index}.{student}')\n"
   ]
  },
  {
   "cell_type": "code",
   "execution_count": 10,
   "id": "efb4d5f3",
   "metadata": {},
   "outputs": [],
   "source": [
    "#While loops, Break and Continieand Using Nested Loops"
   ]
  },
  {
   "cell_type": "code",
   "execution_count": 11,
   "id": "f4be0c97",
   "metadata": {},
   "outputs": [
    {
     "name": "stdout",
     "output_type": "stream",
     "text": [
      "1\n",
      "2\n",
      "3\n",
      "4\n",
      "5\n"
     ]
    }
   ],
   "source": [
    "#a simple while loop\n",
    "x = 1\n",
    "while x <= 5:\n",
    "    print(x)\n",
    "    x += 1"
   ]
  },
  {
   "cell_type": "code",
   "execution_count": 18,
   "id": "9d43336e",
   "metadata": {},
   "outputs": [
    {
     "name": "stdout",
     "output_type": "stream",
     "text": [
      "1\n",
      "2\n",
      "3\n",
      "4\n",
      "6\n",
      "7\n"
     ]
    }
   ],
   "source": [
    "#a while loop with break and continue\n",
    "x = 1\n",
    "while x <= 10:\n",
    "    if x == 5:\n",
    "        x += 1\n",
    "        continue\n",
    "    if x == 8:\n",
    "            break\n",
    "    print(x)\n",
    "    x += 1"
   ]
  },
  {
   "cell_type": "code",
   "execution_count": 19,
   "id": "3d3391f5",
   "metadata": {},
   "outputs": [],
   "source": [
    "#Imagine you have a water dispenser that has a button. When pressed, the dispenser releases water at a steady rate. You want to fill a glass up to a certain level, but not beyond that. The dispenser doesn't have an automatic shutoff, so you need to monitor the glass and release the button when the water reaches the desired level.\n",
    "#Assume that the desired level is 250 and the dispenser releases 10 ml of water every second"
   ]
  },
  {
   "cell_type": "code",
   "execution_count": 20,
   "id": "936c65bf",
   "metadata": {},
   "outputs": [
    {
     "name": "stdout",
     "output_type": "stream",
     "text": [
      "Water level: 10 ml\n",
      "Time used to fill glass: 1 s\n",
      "Water level: 20 ml\n",
      "Time used to fill glass: 2 s\n",
      "Water level: 30 ml\n",
      "Time used to fill glass: 3 s\n",
      "Water level: 40 ml\n",
      "Time used to fill glass: 4 s\n",
      "Water level: 50 ml\n",
      "Time used to fill glass: 5 s\n",
      "Water level: 60 ml\n",
      "Time used to fill glass: 6 s\n",
      "Water level: 70 ml\n",
      "Time used to fill glass: 7 s\n",
      "Water level: 80 ml\n",
      "Time used to fill glass: 8 s\n",
      "Water level: 90 ml\n",
      "Time used to fill glass: 9 s\n",
      "Water level: 100 ml\n",
      "Time used to fill glass: 10 s\n",
      "Water level: 110 ml\n",
      "Time used to fill glass: 11 s\n",
      "Water level: 120 ml\n",
      "Time used to fill glass: 12 s\n",
      "Water level: 130 ml\n",
      "Time used to fill glass: 13 s\n",
      "Water level: 140 ml\n",
      "Time used to fill glass: 14 s\n",
      "Water level: 150 ml\n",
      "Time used to fill glass: 15 s\n",
      "Water level: 160 ml\n",
      "Time used to fill glass: 16 s\n",
      "Water level: 170 ml\n",
      "Time used to fill glass: 17 s\n",
      "Water level: 180 ml\n",
      "Time used to fill glass: 18 s\n",
      "Water level: 190 ml\n",
      "Time used to fill glass: 19 s\n",
      "Water level: 200 ml\n",
      "Time used to fill glass: 20 s\n",
      "Water level: 210 ml\n",
      "Time used to fill glass: 21 s\n",
      "Water level: 220 ml\n",
      "Time used to fill glass: 22 s\n",
      "Water level: 230 ml\n",
      "Time used to fill glass: 23 s\n",
      "Water level: 240 ml\n",
      "Time used to fill glass: 24 s\n",
      "Water level: 250 ml\n",
      "Time used to fill glass: 25 s\n",
      "Glass filled to desired level!\n"
     ]
    }
   ],
   "source": [
    "#Solution Mwikali\n",
    "water_level = 0\n",
    "desired_level = 250\n",
    "time_elapsed = 0\n",
    "\n",
    "while water_level < desired_level:\n",
    "    water_level += 10\n",
    "    time_elapsed += 1\n",
    "    print(f\"Water level: {water_level} ml\")\n",
    "    print(f\"Time used to fill glass: {time_elapsed} s\")\n",
    "\n",
    "print(\"Glass filled to desired level!\")"
   ]
  },
  {
   "cell_type": "code",
   "execution_count": 21,
   "id": "7a2398a0",
   "metadata": {},
   "outputs": [
    {
     "name": "stdout",
     "output_type": "stream",
     "text": [
      "Desired level Reached!\n",
      "Time elapsed 25s\n"
     ]
    }
   ],
   "source": [
    "#Solutin stormy\n",
    "glass_level = 0\n",
    "desired_level = 250 #ml\n",
    "dispenser_release = 10 #ml every second\n",
    "time_elapsed = 0\n",
    "while glass_level < desired_level:\n",
    "    glass_level += dispenser_release\n",
    "    time_elapsed += 1\n",
    "    if glass_level == desired_level:\n",
    "        print(\"Desired level Reached!\")\n",
    "        print(f\"Time elapsed {time_elapsed}s\")\n"
   ]
  },
  {
   "cell_type": "code",
   "execution_count": null,
   "id": "758b3f14",
   "metadata": {},
   "outputs": [],
   "source": []
  },
  {
   "cell_type": "code",
   "execution_count": 23,
   "id": "82afd645",
   "metadata": {},
   "outputs": [],
   "source": [
    "#Nested loops"
   ]
  },
  {
   "cell_type": "code",
   "execution_count": 27,
   "id": "2fceba93",
   "metadata": {},
   "outputs": [
    {
     "name": "stdout",
     "output_type": "stream",
     "text": [
      "0 0\n",
      "0 1\n",
      "1 0\n",
      "1 1\n",
      "2 0\n",
      "2 1\n",
      "3 0\n",
      "3 1\n"
     ]
    }
   ],
   "source": [
    "for i in range(4): #outer loop\n",
    "    for x in range(2): #inner loop\n",
    "        print(i, x)"
   ]
  },
  {
   "cell_type": "code",
   "execution_count": 43,
   "id": "203aeb5d",
   "metadata": {},
   "outputs": [
    {
     "name": "stdout",
     "output_type": "stream",
     "text": [
      "Taking attendance for History class\n",
      "- Samuel\n",
      "- Alvins\n",
      "- SUHEYB\n",
      "\n",
      "\n",
      "Taking attendance for Art class\n",
      "- Brian\n",
      "- Stephen\n",
      "- Valentine\n",
      "\n",
      "\n",
      "Taking attendance for Physics class\n",
      "- Mikale\n",
      "- Asha\n",
      "- Simran\n",
      "\n",
      "\n"
     ]
    }
   ],
   "source": [
    "classes = {\n",
    "    'History':['Samuel','Alvins','SUHEYB'],\n",
    "    'Art':['Brian','Stephen', 'Valentine'],\n",
    "    'Physics':['Mikale','Asha','Simran']\n",
    "}\n",
    "\n",
    "for class_name, students in classes.items():\n",
    "    print(f\"Taking attendance for {class_name} class\")\n",
    "    for students in students:\n",
    "        print(f\"- {students}\")\n",
    "    print('\\n')"
   ]
  },
  {
   "cell_type": "code",
   "execution_count": 1,
   "id": "ec74dd71",
   "metadata": {},
   "outputs": [],
   "source": [
    "#Use Built in Functions and Methods"
   ]
  },
  {
   "cell_type": "code",
   "execution_count": 4,
   "id": "d9c9a297",
   "metadata": {},
   "outputs": [
    {
     "name": "stdout",
     "output_type": "stream",
     "text": [
      "12\n",
      "192\n"
     ]
    }
   ],
   "source": [
    "#Built-in funtions:\n",
    "\n",
    "#len()\n",
    "string = \"Hello class!\"\n",
    "str_length = len(string)\n",
    "#print()\n",
    "print(str_length)\n",
    "#sum\n",
    "print(sum([20,40,60,17,5,50]))\n",
    "\n",
    "#max() and min()\n"
   ]
  },
  {
   "cell_type": "code",
   "execution_count": 9,
   "id": "f42beacd",
   "metadata": {},
   "outputs": [
    {
     "data": {
      "text/plain": [
       "[327, 30, 27, 17, 7]"
      ]
     },
     "execution_count": 9,
     "metadata": {},
     "output_type": "execute_result"
    }
   ],
   "source": [
    "#Built in methods:\n",
    "\n",
    "#lower()\n",
    "#upper()\n",
    "#title()\n",
    "\n",
    "text = 'Hello Manu'\n",
    "upper_text = str.upper(text)\n",
    "upper_text\n",
    "\n",
    "#sort()\n",
    "numbers = [327,7,17,27,30]\n",
    "numbers.sort(reverse=True)\n",
    "numbers\n",
    "\n",
    "#sorted"
   ]
  },
  {
   "cell_type": "raw",
   "id": "ba5d76b6",
   "metadata": {},
   "source": [
    "#Difference between a function and a method:\n",
    "functions are defined using the def keyword\n",
    "methods are accesed by the . notation\n"
   ]
  },
  {
   "cell_type": "code",
   "execution_count": 10,
   "id": "6b012cb5",
   "metadata": {},
   "outputs": [],
   "source": [
    "#comparison operators"
   ]
  },
  {
   "cell_type": "code",
   "execution_count": 19,
   "id": "e4561313",
   "metadata": {},
   "outputs": [
    {
     "name": "stdout",
     "output_type": "stream",
     "text": [
      "x is less than 13\n"
     ]
    }
   ],
   "source": [
    "#logical operators\n",
    "# and\n",
    "# or\n",
    "# not\n",
    "x = 10\n",
    "y = 13\n",
    "if not x > 13:\n",
    "    print('x is less than 13')"
   ]
  },
  {
   "cell_type": "code",
   "execution_count": 23,
   "id": "2301aa86",
   "metadata": {},
   "outputs": [
    {
     "data": {
      "text/plain": [
       "False"
      ]
     },
     "execution_count": 23,
     "metadata": {},
     "output_type": "execute_result"
    }
   ],
   "source": [
    "#identity operators\n",
    "# is\n",
    "# is not\n",
    "list1 = [1,2,3,4,5]\n",
    "list2 = list1\n",
    "result = list1 is list2\n",
    "list3 =[6,7,8,9]\n",
    "result = list1 is list3\n",
    "result"
   ]
  },
  {
   "cell_type": "code",
   "execution_count": 24,
   "id": "bf4cdfcf",
   "metadata": {},
   "outputs": [
    {
     "name": "stdout",
     "output_type": "stream",
     "text": [
      "hello world\n"
     ]
    }
   ],
   "source": [
    "#declaring a basic function\n",
    "def greeting():\n",
    "    print('hello world')\n",
    "    \n",
    "greeting()    "
   ]
  },
  {
   "cell_type": "code",
   "execution_count": 27,
   "id": "fd65bc63",
   "metadata": {},
   "outputs": [
    {
     "data": {
      "text/plain": [
       "11"
      ]
     },
     "execution_count": 27,
     "metadata": {},
     "output_type": "execute_result"
    }
   ],
   "source": [
    "#declarte and use a function with arguments\n",
    "def add_numbers(a, b):\n",
    "    result = a + b\n",
    "    return result\n",
    "\n",
    "add_numbers(5, 6)"
   ]
  },
  {
   "cell_type": "code",
   "execution_count": null,
   "id": "c17b5933",
   "metadata": {},
   "outputs": [],
   "source": [
    "#create a function to calculate the cost of a shopping cart withg items, including tax and discounts"
   ]
  }
 ],
 "metadata": {
  "kernelspec": {
   "display_name": "Python (learn-env)",
   "language": "python",
   "name": "learn-env"
  },
  "language_info": {
   "codemirror_mode": {
    "name": "ipython",
    "version": 3
   },
   "file_extension": ".py",
   "mimetype": "text/x-python",
   "name": "python",
   "nbconvert_exporter": "python",
   "pygments_lexer": "ipython3",
   "version": "3.11.4"
  }
 },
 "nbformat": 4,
 "nbformat_minor": 5
}
